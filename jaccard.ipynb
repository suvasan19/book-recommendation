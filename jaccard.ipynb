{
  "cells": [
    {
      "cell_type": "code",
      "source": [
        "from google.colab import drive\n",
        "drive.mount('/content/drive')"
      ],
      "metadata": {
        "colab": {
          "base_uri": "https://localhost:8080/"
        },
        "id": "vFfmXypmp-Ah",
        "outputId": "2a54610f-d67a-4e06-dbb5-1201990a924b"
      },
      "execution_count": null,
      "outputs": [
        {
          "output_type": "stream",
          "name": "stdout",
          "text": [
            "Mounted at /content/drive\n"
          ]
        }
      ]
    },
    {
      "cell_type": "code",
      "source": [
        "files = [f for f in os.listdir('.') if os.path.isfile(f)]\n",
        "for f in files:\n",
        "  print(f)"
      ],
      "metadata": {
        "id": "ARHZua7gq6jJ"
      },
      "execution_count": null,
      "outputs": []
    },
    {
      "cell_type": "code",
      "execution_count": null,
      "metadata": {
        "id": "ySHUCoVLXsuI"
      },
      "outputs": [],
      "source": [
        "import pandas as pd\n",
        "df = pd.read_csv('/content/drive/MyDrive/IR Proj/scraped_CSV.csv')"
      ]
    },
    {
      "cell_type": "code",
      "source": [
        "df.columns"
      ],
      "metadata": {
        "colab": {
          "base_uri": "https://localhost:8080/"
        },
        "id": "HAOiwhe_yTCZ",
        "outputId": "fefc0e1a-5183-4829-850b-9954be940a62"
      },
      "execution_count": null,
      "outputs": [
        {
          "output_type": "execute_result",
          "data": {
            "text/plain": [
              "Index(['Unnamed: 0', 'book_id', 'review_sentences', 'title'], dtype='object')"
            ]
          },
          "metadata": {},
          "execution_count": 3
        }
      ]
    },
    {
      "cell_type": "code",
      "source": [
        "def jaccard_similarity(doc1, doc2):\n",
        "    # print(\"doc1\", doc1, \"doc2\", doc2)\n",
        "    union = len(set(doc1 + doc2))\n",
        "    intersection = len(set(doc1) & set(doc2))\n",
        "\n",
        "    return intersection/union"
      ],
      "metadata": {
        "id": "y3W3aCWlyUX3"
      },
      "execution_count": null,
      "outputs": []
    },
    {
      "cell_type": "code",
      "source": [
        "import multiprocessing\n",
        "import json\n",
        "import pickle\n",
        "# df = df.head(4000)\n",
        "# print(df.shape)\n",
        "\n",
        "# num_processes = multiprocessing.cpu_count()\n",
        "num_processes = 100\n",
        "print(num_processes)\n",
        "\n",
        "# calculate the chunk size as an integer\n",
        "chunk_size = int(df.shape[0]/num_processes)\n",
        "\n",
        "# this solution was reworked from the above link.\n",
        "# will work even if the length of the dataframe is not evenly divisible by num_processes\n",
        "# chunks = [df.iloc[df.index[i:i + chunk_size]] for i in range(0, df.shape[0], chunk_size)]\n",
        "chunks = [df.iloc[i:i + chunk_size,:] for i in range(0, df.shape[0], chunk_size)]\n",
        "\n",
        "jaccard_matrix = {}\n",
        "jaccard_rank = {}\n",
        "\n",
        "print(\"Loop books\")\n",
        "\n",
        "def func(df):\n",
        "  for i,book in df.iterrows():\n",
        "      # print(book.title)\n",
        "      print(i)\n",
        "      reviews = book['review_sentences']\n",
        "      if book.title not in jaccard_matrix:\n",
        "          jaccard_matrix[book.title] = {}\n",
        "      if book.title not in jaccard_rank:\n",
        "          jaccard_rank[book.title] = []\n",
        "\n",
        "      for j,other in df.iterrows():\n",
        "          if i == j or other.title in jaccard_matrix[book.title]:\n",
        "              continue\n",
        "\n",
        "          rev = other['review_sentences']\n",
        "          jaccard_score = jaccard_similarity(reviews, rev)\n",
        "          jaccard_matrix[book.title][other.title] = jaccard_score\n",
        "          jaccard_rank[book.title].append((other['title'], jaccard_score))\n",
        "          if other.title not in jaccard_matrix:\n",
        "              jaccard_matrix[other.title] = {}\n",
        "          if other.title not in jaccard_rank:\n",
        "              jaccard_rank[other.title] = []\n",
        "          jaccard_matrix[other.title][book.title] = jaccard_score\n",
        "          jaccard_rank[other.title].append((book['title'], jaccard_score))\n",
        "            \n",
        "  return df\n",
        "\n",
        "\n",
        "# create our pool with `num_processes` processes\n",
        "pool = multiprocessing.Pool(processes=num_processes)\n",
        "\n",
        "# apply our function to each chunk in the list\n",
        "result = pool.map(func, chunks)\n",
        "\n",
        "for i in range(len(result)):\n",
        "  df.iloc[result[i].index] = result[i]\n",
        "  # since result[i] is just a dataframe\n",
        "   # we can reassign the original dataframe based on the index of each chunk\n",
        "\n",
        "with open('/content/drive/MyDrive/IR Proj/jaccard_matrix.pkl', 'wb') as f:\n",
        "    pickle.dump(jaccard_matrix, f)\n",
        "\n",
        "with open('/content/drive/MyDrive/IR Proj/jaccard_rank.pkl', 'wb') as f:\n",
        "    pickle.dump(jaccard_rank, f)\n",
        "        \n",
        "# with open('saved_dictionary.pkl', 'rb') as f:\n",
        "#     loaded_dict = pickle.load(f)\n",
        "\n",
        "for i in jaccard_rank:\n",
        "    sorted(i, key=lambda x: x[1], reverse = True)\n",
        "\n",
        "with open(\"/content/drive/MyDrive/IR Proj/jaccard_matrix.json\", 'w') as f: \n",
        "    json.dump(jaccard_matrix, f)\n",
        "\n",
        "with open(\"/content/drive/MyDrive/IR Proj/jaccard_rank.json\", 'w') as f: \n",
        "    json.dump(jaccard_rank, f)"
      ],
      "metadata": {
        "id": "LHZb9kxMyex9"
      },
      "execution_count": null,
      "outputs": []
    },
    {
      "cell_type": "code",
      "source": [
        "eval = [2466, 1257, 5774, 646, 8050, 849, 394, 4174, 203, 139, 4097, 61, 173, 1026, 1422, 1148, 1354, 5082, 343, 184, 366, 1108, 4556, 3438, 363, 604, 1313, 140, 264, 221]\n"
      ],
      "metadata": {
        "id": "tI3-gK9HFps6"
      },
      "execution_count": null,
      "outputs": []
    },
    {
      "cell_type": "code",
      "source": [
        "len(jaccard_rank)"
      ],
      "metadata": {
        "colab": {
          "base_uri": "https://localhost:8080/"
        },
        "id": "QwQvFqkUoz47",
        "outputId": "59613097-ca29-49a8-ff07-38a521982db3"
      },
      "execution_count": null,
      "outputs": [
        {
          "output_type": "execute_result",
          "data": {
            "text/plain": [
              "0"
            ]
          },
          "metadata": {},
          "execution_count": 11
        }
      ]
    },
    {
      "cell_type": "code",
      "source": [
        "jaccard_matrix"
      ],
      "metadata": {
        "colab": {
          "base_uri": "https://localhost:8080/"
        },
        "id": "7TQyZe8uo0td",
        "outputId": "b9ca9b22-cf59-47a9-fe1d-045a82428984"
      },
      "execution_count": null,
      "outputs": [
        {
          "output_type": "execute_result",
          "data": {
            "text/plain": [
              "{}"
            ]
          },
          "metadata": {},
          "execution_count": 10
        }
      ]
    }
  ],
  "metadata": {
    "language_info": {
      "codemirror_mode": {
        "name": "ipython",
        "version": 3
      },
      "file_extension": ".py",
      "mimetype": "text/x-python",
      "name": "python",
      "nbconvert_exporter": "python",
      "pygments_lexer": "ipython3",
      "version": "3.8.1-final"
    },
    "orig_nbformat": 2,
    "kernelspec": {
      "name": "python38164bite8a192e12dcb46978e2c34b8c9c3dfee",
      "display_name": "Python 3.8.1 64-bit"
    },
    "colab": {
      "name": "jaccard.ipynb",
      "provenance": [],
      "collapsed_sections": []
    }
  },
  "nbformat": 4,
  "nbformat_minor": 0
}